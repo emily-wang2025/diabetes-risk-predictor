{
 "cells": [
  {
   "cell_type": "markdown",
   "id": "af4f9f8e",
   "metadata": {},
   "source": [
    "# Diabetes Risk Prediction\n",
    "\n",
    "This notebook builds a machine learning pipeline to predict whether a patient is at risk for diabetes using the PIMA Indian dataset.\n",
    "\n",
    "Goals:\n",
    "- Perform EDA and handle missing/invalid values\n",
    "- Build a strong preprocessing pipeline with feature engineering\n",
    "- Compare multiple models (LogReg, RF, XGBoost, Neural Net)\n",
    "- Visualize model performance (ROC, AUC, feature importance)\n",
    "- Explain predictions with SHAP\n",
    "- Deploy a live web app with Gradio"
   ]
  },
  {
   "cell_type": "code",
   "execution_count": null,
   "id": "e0d51458",
   "metadata": {},
   "outputs": [],
   "source": [
    "!pip install scikit-learn xgboost shap matplotlib pandas seaborn joblib --quiet"
   ]
  },
  {
   "cell_type": "markdown",
   "id": "36e400d5",
   "metadata": {},
   "source": [
    "## Exploratory Data Analysis"
   ]
  },
  {
   "cell_type": "code",
   "execution_count": null,
   "id": "951a9a9f",
   "metadata": {},
   "outputs": [],
   "source": [
    "import pandas as pd\n",
    "import seaborn as sns\n",
    "import matplotlib.pyplot as plt\n",
    "\n",
    "url = \"https://raw.githubusercontent.com/jbrownlee/Datasets/master/pima-indians-diabetes.data.csv\"\n",
    "columns = [\"Pregnancies\", \"Glucose\", \"BloodPressure\", \"SkinThickness\", \"Insulin\",\n",
    "           \"BMI\", \"DiabetesPedigreeFunction\", \"Age\", \"Outcome\"]\n",
    "df = pd.read_csv(url, names=columns)\n",
    "\n",
    "sns.countplot(data=df, x='Outcome')\n",
    "plt.title(\"Class Distribution\")\n",
    "plt.show()\n",
    "\n",
    "plt.figure(figsize=(10, 8))\n",
    "sns.heatmap(df.corr(), annot=True, cmap=\"coolwarm\")\n",
    "plt.title(\"Correlation Matrix\")\n",
    "plt.show()"
   ]
  },
  {
   "cell_type": "markdown",
   "id": "7de9b3fc",
   "metadata": {},
   "source": [
    "## Feature Engineering and Preprocessing"
   ]
  },
  {
   "cell_type": "code",
   "execution_count": null,
   "id": "517da98c",
   "metadata": {},
   "outputs": [],
   "source": [
    "from sklearn.model_selection import train_test_split\n",
    "from sklearn.preprocessing import StandardScaler\n",
    "import numpy as np\n",
    "import joblib\n",
    "\n",
    "df_cleaned = df.copy()\n",
    "zero_features = [\"Glucose\", \"BloodPressure\", \"SkinThickness\", \"Insulin\", \"BMI\"]\n",
    "for col in zero_features:\n",
    "    df_cleaned[col] = df_cleaned[col].replace(0, np.nan)\n",
    "    df_cleaned[col].fillna(df_cleaned[col].median(), inplace=True)\n",
    "\n",
    "df_cleaned[\"BMI_Age\"] = df_cleaned[\"BMI\"] * df_cleaned[\"Age\"]\n",
    "df_cleaned[\"GlucosePerPreg\"] = df_cleaned[\"Glucose\"] / (df_cleaned[\"Pregnancies\"] + 1)\n",
    "df_cleaned[\"LogInsulin\"] = np.log1p(df_cleaned[\"Insulin\"])\n",
    "df_cleaned[\"LogBMI\"] = np.log1p(df_cleaned[\"BMI\"])\n",
    "\n",
    "drop_cols = [\"Insulin\", \"BMI\"]\n",
    "X = df_cleaned.drop(columns=[\"Outcome\"] + drop_cols)\n",
    "y = df_cleaned[\"Outcome\"]\n",
    "\n",
    "X_train, X_test, y_train, y_test = train_test_split(X, y, test_size=0.2, random_state=42)\n",
    "scaler = StandardScaler()\n",
    "X_train_scaled = scaler.fit_transform(X_train)\n",
    "X_test_scaled = scaler.transform(X_test)\n",
    "\n",
    "joblib.dump(scaler, \"scaler.pkl\")"
   ]
  },
  {
   "cell_type": "markdown",
   "id": "65fb1bfa",
   "metadata": {},
   "source": [
    "## Train Machine Learning Models"
   ]
  },
  {
   "cell_type": "code",
   "execution_count": null,
   "id": "de974872",
   "metadata": {},
   "outputs": [],
   "source": [
    "from sklearn.linear_model import LogisticRegression\n",
    "from sklearn.ensemble import RandomForestClassifier\n",
    "from xgboost import XGBClassifier\n",
    "from sklearn.metrics import roc_auc_score, roc_curve\n",
    "\n",
    "models = {\n",
    "    \"Logistic Regression\": LogisticRegression(max_iter=1000),\n",
    "    \"Random Forest\": RandomForestClassifier(),\n",
    "    \"XGBoost\": XGBClassifier(use_label_encoder=False, eval_metric='logloss')\n",
    "}\n",
    "\n",
    "predictions = {}\n",
    "for name, model in models.items():\n",
    "    model.fit(X_train_scaled, y_train)\n",
    "    y_prob = model.predict_proba(X_test_scaled)[:, 1]\n",
    "    predictions[name] = y_prob\n",
    "    auc = roc_auc_score(y_test, y_prob)\n",
    "    print(f\"{name}: ROC AUC = {auc:.4f}\")\n",
    "\n",
    "joblib.dump(models[\"XGBoost\"], \"xgboost_diabetes_model.pkl\")"
   ]
  },
  {
   "cell_type": "markdown",
   "id": "7d1546dc",
   "metadata": {},
   "source": [
    "## ROC Curve Comparison"
   ]
  },
  {
   "cell_type": "code",
   "execution_count": null,
   "id": "631c02cb",
   "metadata": {},
   "outputs": [],
   "source": [
    "plt.figure(figsize=(8,6))\n",
    "for name, y_prob in predictions.items():\n",
    "    fpr, tpr, _ = roc_curve(y_test, y_prob)\n",
    "    plt.plot(fpr, tpr, label=f\"{name}\")\n",
    "plt.plot([0,1], [0,1], 'k--')\n",
    "plt.xlabel(\"False Positive Rate\")\n",
    "plt.ylabel(\"True Positive Rate\")\n",
    "plt.title(\"ROC Curves for All Models\")\n",
    "plt.legend()\n",
    "plt.grid(True)\n",
    "plt.show()"
   ]
  },
  {
   "cell_type": "markdown",
   "id": "80febe6c",
   "metadata": {},
   "source": [
    "## Explainability with SHAP"
   ]
  },
  {
   "cell_type": "code",
   "execution_count": null,
   "id": "95634440",
   "metadata": {},
   "outputs": [],
   "source": [
    "import shap\n",
    "explainer = shap.Explainer(models[\"XGBoost\"], X_train_scaled)\n",
    "shap_values = explainer(X_test_scaled[:100])\n",
    "shap.plots.beeswarm(shap_values)"
   ]
  },
  {
   "cell_type": "markdown",
   "id": "5df7e9b5",
   "metadata": {},
   "source": [
    "## Neural Network Model (PyTorch)"
   ]
  },
  {
   "cell_type": "code",
   "execution_count": null,
   "id": "1fc46334",
   "metadata": {},
   "outputs": [],
   "source": [
    "import torch\n",
    "from torch import nn\n",
    "from torch.utils.data import TensorDataset, DataLoader\n",
    "\n",
    "class MLP(nn.Module):\n",
    "    def __init__(self):\n",
    "        super().__init__()\n",
    "        self.net = nn.Sequential(\n",
    "            nn.Linear(X_train_scaled.shape[1], 16), nn.ReLU(),\n",
    "            nn.Linear(16, 8), nn.ReLU(),\n",
    "            nn.Linear(8, 1), nn.Sigmoid()\n",
    "        )\n",
    "    def forward(self, x):\n",
    "        return self.net(x)\n",
    "\n",
    "X_train_tensor = torch.tensor(X_train_scaled, dtype=torch.float32)\n",
    "y_train_tensor = torch.tensor(y_train.values, dtype=torch.float32).view(-1, 1)\n",
    "train_dl = DataLoader(TensorDataset(X_train_tensor, y_train_tensor), batch_size=32, shuffle=True)\n",
    "\n",
    "nn_model = MLP()\n",
    "loss_fn = nn.BCELoss()\n",
    "optimizer = torch.optim.Adam(nn_model.parameters(), lr=0.01)\n",
    "\n",
    "for epoch in range(10):\n",
    "    for xb, yb in train_dl:\n",
    "        preds = nn_model(xb)\n",
    "        loss = loss_fn(preds, yb)\n",
    "        optimizer.zero_grad()\n",
    "        loss.backward()\n",
    "        optimizer.step()\n",
    "    print(f\"Epoch {epoch+1}: Loss = {loss.item():.4f}\")"
   ]
  }
 ],
 "metadata": {},
 "nbformat": 4,
 "nbformat_minor": 5
}
